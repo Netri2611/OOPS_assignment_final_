{
  "cells": [
    {
      "cell_type": "markdown",
      "source": [
        "Practical Questions\n",
        "1. Create a parent class Animal with a method speak() that prints a generic message. Create a child class Dog\n",
        "that overrides the speak() method to print \"Bark!\".\n",
        "\n",
        "\n",
        "2. Write a program to create an abstract class Shape with a method area(). Derive classes Circle and Rectangle\n",
        "from it and implement the area() method in both.\n",
        "\n",
        "\n",
        "3. Implement a multi-level inheritance scenario where a class Vehicle has an attribute type. Derive a class Car\n",
        "and further derive a class ElectricCar that adds a battery attribute.\n",
        "\n",
        "\n",
        "4. Demonstrate polymorphism by creating a base class Bird with a method fly(). Create two derived classes\n",
        "Sparrow and Penguin that override the fly() method.\n",
        "\n",
        "\n",
        "5. Write a program to demonstrate encapsulation by creating a class BankAccount with private attributes\n",
        "balance and methods to deposit, withdraw, and check balance.\n",
        "\n",
        "\n",
        "6. Demonstrate runtime polymorphism using a method play() in a base class Instrument. Derive classes Guitar\n",
        "and Piano that implement their own version of play().\n",
        "\n",
        "\n",
        "7. Create a class MathOperations with a class method add_numbers() to add two numbers and a static\n",
        "method subtract_numbers() to subtract two numbers.\n",
        "\n",
        "\n",
        "8. Implement a class Person with a class method to count the total number of persons created.\n",
        "\n",
        "\n",
        "9. Write a class Fraction with attributes numerator and denominator. Override the str method to display the\n",
        "fraction as \"numerator/denominator\".\n",
        "\n",
        "\n",
        "10. Demonstrate operator overloading by creating a class Vector and overriding the add method to add two\n",
        "vectors.\n",
        "\n",
        "\n",
        "11. Create a class Person with attributes name and age. Add a method greet() that prints \"Hello, my name is\n",
        "{name} and I am {age} years old.\"\n",
        "\n",
        "\n",
        "12. Implement a class Student with attributes name and grades. Create a method average_grade() to compute\n",
        "the average of the grades.\n",
        "\n",
        "\n",
        "13. Create a class Rectangle with methods set_dimensions() to set the dimensions and area() to calculate the\n",
        "area.\n",
        "\n",
        "\n",
        "14. Create a class Employee with a method calculate_salary() that computes the salary based on hours worked\n",
        "and hourly rate. Create a derived class Manager that adds a bonus to the salary.\n",
        "Java + DSA Pwskills\n",
        "15. Create a class Product with attributes name, price, and quantity. Implement a method total_price() that\n",
        "calculates the total price of the product.\n",
        "\n",
        "\n",
        "16. Create a class Animal with an abstract method sound(). Create two derived classes Cow and Sheep that\n",
        "implement the sound() method.\n",
        "\n",
        "\n",
        "17. Create a class Book with attributes title, author, and year_published. Add a method get_book_info() that\n",
        "returns a formatted string with the book's details.\n",
        "\n",
        "\n",
        "18. Create a class House with attributes address and price. Create a derived class Mansion that adds an\n",
        "attribute number_of_rooms"
      ],
      "metadata": {
        "id": "OJyWjHFoj1-u"
      },
      "id": "OJyWjHFoj1-u"
    },
    {
      "cell_type": "code",
      "execution_count": 3,
      "id": "034326c8",
      "metadata": {
        "id": "034326c8"
      },
      "outputs": [],
      "source": [
        "# 1. Animal and Dog class - Method Overriding\n",
        "class Animal:\n",
        "    def speak(self):\n",
        "        print(\"Animal makes a sound.\")\n",
        "\n",
        "class Dog(Animal):\n",
        "    def speak(self):\n",
        "        print(\"Bark!\")\n",
        "\n"
      ]
    },
    {
      "cell_type": "code",
      "source": [
        "d = Dog()\n",
        "d.speak()"
      ],
      "metadata": {
        "colab": {
          "base_uri": "https://localhost:8080/"
        },
        "id": "PwnKdL9AkGl7",
        "outputId": "01f01b09-e1d7-4329-93d5-37b197db34c3"
      },
      "id": "PwnKdL9AkGl7",
      "execution_count": 4,
      "outputs": [
        {
          "output_type": "stream",
          "name": "stdout",
          "text": [
            "Bark!\n"
          ]
        }
      ]
    },
    {
      "cell_type": "code",
      "execution_count": 6,
      "id": "d1bc89ae",
      "metadata": {
        "id": "d1bc89ae"
      },
      "outputs": [],
      "source": [
        "# 2. Abstract class Shape with Circle and Rectangle\n",
        "from abc import ABC, abstractmethod\n",
        "import math\n",
        "\n",
        "class Shape(ABC):\n",
        "    @abstractmethod\n",
        "    def area(self):\n",
        "        pass\n",
        "\n",
        "class Circle(Shape):\n",
        "    def __init__(self, radius):\n",
        "        self.radius = radius\n",
        "\n",
        "    def area(self):\n",
        "        return math.pi * self.radius ** 2\n",
        "\n",
        "class Rectangle(Shape):\n",
        "    def __init__(self, length, width):\n",
        "        self.length = length\n",
        "        self.width = width\n",
        "\n",
        "    def area(self):\n",
        "        return self.length * self.width"
      ]
    },
    {
      "cell_type": "code",
      "source": [
        "c = Circle(6)\n",
        "r = Rectangle(4, 6)\n",
        "print(c.area())\n",
        "print(r.area())"
      ],
      "metadata": {
        "colab": {
          "base_uri": "https://localhost:8080/"
        },
        "id": "N7ZOj_vCkUEC",
        "outputId": "831b5ff9-197f-4839-fbbf-12faea632fe7"
      },
      "id": "N7ZOj_vCkUEC",
      "execution_count": 8,
      "outputs": [
        {
          "output_type": "stream",
          "name": "stdout",
          "text": [
            "113.09733552923255\n",
            "24\n"
          ]
        }
      ]
    },
    {
      "cell_type": "code",
      "execution_count": 9,
      "id": "0ec28b6d",
      "metadata": {
        "id": "0ec28b6d"
      },
      "outputs": [],
      "source": [
        "# 3. Multi-level Inheritance: Vehicle -> Car -> ElectricCar\n",
        "class Vehicle:\n",
        "    def __init__(self, vehicle_type):\n",
        "        self.vehicle_type = vehicle_type\n",
        "\n",
        "class Car(Vehicle):\n",
        "    def __init__(self, vehicle_type, brand):\n",
        "        super().__init__(vehicle_type)\n",
        "        self.brand = brand\n",
        "\n",
        "class ElectricCar(Car):\n",
        "    def __init__(self, vehicle_type, brand, battery):\n",
        "        super().__init__(vehicle_type, brand)\n",
        "        self.battery = battery\n"
      ]
    },
    {
      "cell_type": "code",
      "source": [
        "ec = ElectricCar(\"Car\", \"Honda\", \"125 kWh\")\n",
        "print(ec.vehicle_type, ec.brand, ec.battery)"
      ],
      "metadata": {
        "colab": {
          "base_uri": "https://localhost:8080/"
        },
        "id": "xC3qXKG3keVP",
        "outputId": "4c4a3799-2450-4677-f02e-3c26e93140ba"
      },
      "id": "xC3qXKG3keVP",
      "execution_count": 10,
      "outputs": [
        {
          "output_type": "stream",
          "name": "stdout",
          "text": [
            "Car Honda 125 kWh\n"
          ]
        }
      ]
    },
    {
      "cell_type": "code",
      "execution_count": 11,
      "id": "9f5e0463",
      "metadata": {
        "id": "9f5e0463"
      },
      "outputs": [],
      "source": [
        "# 4. Polymorphism with Bird, Sparrow, Penguin\n",
        "class Bird:\n",
        "    def fly(self):\n",
        "        print(\"Bird is flying.\")\n",
        "\n",
        "class Sparrow(Bird):\n",
        "    def fly(self):\n",
        "        print(\"Sparrow can fly.\")\n",
        "\n",
        "class Penguin(Bird):\n",
        "    def fly(self):\n",
        "        print(\"Penguin cannot fly.\")\n"
      ]
    },
    {
      "cell_type": "code",
      "source": [
        "birds = [Sparrow(), Penguin()]\n",
        "for bird in birds:\n",
        "    bird.fly()"
      ],
      "metadata": {
        "colab": {
          "base_uri": "https://localhost:8080/"
        },
        "id": "GtmF0THtltsI",
        "outputId": "84f0278a-ae6d-4a4d-e1c4-546a9c5f2ea9"
      },
      "id": "GtmF0THtltsI",
      "execution_count": 12,
      "outputs": [
        {
          "output_type": "stream",
          "name": "stdout",
          "text": [
            "Sparrow can fly.\n",
            "Penguin cannot fly.\n"
          ]
        }
      ]
    },
    {
      "cell_type": "code",
      "execution_count": 13,
      "id": "94593ae2",
      "metadata": {
        "id": "94593ae2"
      },
      "outputs": [],
      "source": [
        "# 5. Encapsulation in BankAccount\n",
        "class BankAccount:\n",
        "    def __init__(self):\n",
        "        self.__balance = 0\n",
        "\n",
        "    def deposit(self, amount):\n",
        "        self.__balance += amount\n",
        "\n",
        "    def withdraw(self, amount):\n",
        "        if amount <= self.__balance:\n",
        "            self.__balance -= amount\n",
        "        else:\n",
        "            print(\"Insufficient or low  balance.\")\n",
        "\n",
        "    def get_balance(self):\n",
        "        return self.__balance\n"
      ]
    },
    {
      "cell_type": "code",
      "source": [
        "acc = BankAccount()\n",
        "acc.deposit(1200)\n"
      ],
      "metadata": {
        "id": "_JhU5mpQl68D"
      },
      "id": "_JhU5mpQl68D",
      "execution_count": 20,
      "outputs": []
    },
    {
      "cell_type": "code",
      "source": [
        "print(acc.get_balance())"
      ],
      "metadata": {
        "colab": {
          "base_uri": "https://localhost:8080/"
        },
        "id": "n5lduXzqmBgR",
        "outputId": "59984ba4-b6df-42d5-dd04-79eadf583c96"
      },
      "id": "n5lduXzqmBgR",
      "execution_count": 21,
      "outputs": [
        {
          "output_type": "stream",
          "name": "stdout",
          "text": [
            "1200\n"
          ]
        }
      ]
    },
    {
      "cell_type": "code",
      "source": [
        "acc.withdraw(500)\n"
      ],
      "metadata": {
        "id": "XriEybQ8l-4o"
      },
      "id": "XriEybQ8l-4o",
      "execution_count": 22,
      "outputs": []
    },
    {
      "cell_type": "code",
      "source": [
        "print(acc.get_balance())"
      ],
      "metadata": {
        "colab": {
          "base_uri": "https://localhost:8080/"
        },
        "id": "GhJYaAaSmD8J",
        "outputId": "5b791247-d697-4b14-dfff-51814a8455f3"
      },
      "id": "GhJYaAaSmD8J",
      "execution_count": 23,
      "outputs": [
        {
          "output_type": "stream",
          "name": "stdout",
          "text": [
            "700\n"
          ]
        }
      ]
    },
    {
      "cell_type": "code",
      "execution_count": 24,
      "id": "6b575ae6",
      "metadata": {
        "id": "6b575ae6"
      },
      "outputs": [],
      "source": [
        "# 6. Runtime Polymorphism with Instrument\n",
        "class Instrument:\n",
        "    def play(self):\n",
        "        print(\"Playing instrument.\")\n",
        "\n",
        "class Guitar(Instrument):\n",
        "    def play(self):\n",
        "        print(\"Playing guitar.\")\n",
        "\n",
        "class Piano(Instrument):\n",
        "    def play(self):\n",
        "        print(\"Playing piano.\")\n",
        "\n"
      ]
    },
    {
      "cell_type": "code",
      "source": [
        "instruments = [Guitar(), Piano()] # we can access it all together, also we can yeild the result separately.\n",
        "for instrument in instruments:\n",
        "    instrument.play()"
      ],
      "metadata": {
        "colab": {
          "base_uri": "https://localhost:8080/"
        },
        "id": "OElDXUrNmRxy",
        "outputId": "d0167e51-3e4c-49a4-9ad0-7153df05030a"
      },
      "id": "OElDXUrNmRxy",
      "execution_count": 25,
      "outputs": [
        {
          "output_type": "stream",
          "name": "stdout",
          "text": [
            "Playing guitar.\n",
            "Playing piano.\n"
          ]
        }
      ]
    },
    {
      "cell_type": "code",
      "execution_count": 26,
      "id": "411d8b5a",
      "metadata": {
        "id": "411d8b5a"
      },
      "outputs": [],
      "source": [
        "# 7. Class and Static methods in MathOperations\n",
        "class MathOperations:\n",
        "    @classmethod\n",
        "    def add_numbers(cls, a, b):\n",
        "        return a + b\n",
        "\n",
        "    @staticmethod\n",
        "    def subtract_numbers(a, b):\n",
        "        return a - b\n"
      ]
    },
    {
      "cell_type": "code",
      "source": [
        "print(MathOperations.add_numbers(5, 3))\n",
        "print(MathOperations.subtract_numbers(10, 4))"
      ],
      "metadata": {
        "colab": {
          "base_uri": "https://localhost:8080/"
        },
        "id": "SzcZn4hEmh-d",
        "outputId": "a071d225-284a-467d-8a4f-b010ecfc97b8"
      },
      "id": "SzcZn4hEmh-d",
      "execution_count": 27,
      "outputs": [
        {
          "output_type": "stream",
          "name": "stdout",
          "text": [
            "8\n",
            "6\n"
          ]
        }
      ]
    },
    {
      "cell_type": "code",
      "execution_count": 33,
      "id": "9553921d",
      "metadata": {
        "id": "9553921d"
      },
      "outputs": [],
      "source": [
        "# 8. Counting Persons with a class method\n",
        "class PersonCount:\n",
        "    count = 0\n",
        "\n",
        "    def __init__(self, name):\n",
        "        self.name = name\n",
        "        PersonCount.count += 1\n",
        "\n",
        "    @classmethod\n",
        "    def total_persons(cls):\n",
        "        return cls.count"
      ]
    },
    {
      "cell_type": "code",
      "source": [
        "p1 = PersonCount(\"netri\")\n",
        "p2 = PersonCount(\"niyati\")\n",
        "p2 = PersonCount(\"naresh\")\n",
        "print(PersonCount.total_persons())"
      ],
      "metadata": {
        "colab": {
          "base_uri": "https://localhost:8080/"
        },
        "id": "MK9Ejy8jnYkN",
        "outputId": "ec8960be-0f87-4f0c-9577-7c65482d33ff"
      },
      "id": "MK9Ejy8jnYkN",
      "execution_count": 34,
      "outputs": [
        {
          "output_type": "stream",
          "name": "stdout",
          "text": [
            "3\n"
          ]
        }
      ]
    },
    {
      "cell_type": "code",
      "execution_count": 38,
      "id": "129369a6",
      "metadata": {
        "id": "129369a6"
      },
      "outputs": [],
      "source": [
        "# 9. Fraction class with __str__\n",
        "class Fraction:\n",
        "    def __init__(self, num, deno):\n",
        "        self.numerator = num\n",
        "        self.denominator = deno\n",
        "\n",
        "    def __str__(self):\n",
        "        return f\"{self.numerator}/{self.denominator}\"\n"
      ]
    },
    {
      "cell_type": "code",
      "source": [
        "f = Fraction(10, 11)\n",
        "print(f)"
      ],
      "metadata": {
        "colab": {
          "base_uri": "https://localhost:8080/"
        },
        "id": "oVcgGH_xonNt",
        "outputId": "6f9d4e1d-66ad-46b0-f6dc-75641c7333e9"
      },
      "id": "oVcgGH_xonNt",
      "execution_count": 39,
      "outputs": [
        {
          "output_type": "stream",
          "name": "stdout",
          "text": [
            "10/11\n"
          ]
        }
      ]
    },
    {
      "cell_type": "code",
      "execution_count": 47,
      "id": "ae39d4b3",
      "metadata": {
        "id": "ae39d4b3"
      },
      "outputs": [],
      "source": [
        "# 10. Operator Overloading with Vector\n",
        "class Vector:\n",
        "    def __init__(self, x, y):\n",
        "        self.x = x\n",
        "        self.y = y\n",
        "\n",
        "    def __add__(self, other):\n",
        "        return Vector(self.x + other.x, self.y + other.y)\n",
        "\n",
        "    def __str__(self):\n",
        "        return f\"Vector({self.x}, {self.y})\"\n",
        "\n",
        ""
      ]
    },
    {
      "cell_type": "code",
      "source": [
        "v1 = Vector(2, 3)\n",
        "v2 = Vector(4, 1)\n",
        "print(v1 + v2)"
      ],
      "metadata": {
        "colab": {
          "base_uri": "https://localhost:8080/"
        },
        "id": "u5Dt1ipro13-",
        "outputId": "74e5dea6-4cf7-494a-db29-24c6011a03df"
      },
      "id": "u5Dt1ipro13-",
      "execution_count": 48,
      "outputs": [
        {
          "output_type": "stream",
          "name": "stdout",
          "text": [
            "Vector(6, 4)\n"
          ]
        }
      ]
    },
    {
      "cell_type": "code",
      "execution_count": 49,
      "id": "08a5f825",
      "metadata": {
        "id": "08a5f825"
      },
      "outputs": [],
      "source": [
        "# 11. Person with greet method\n",
        "class Person:\n",
        "    def __init__(self, name, age):\n",
        "        self.name = name\n",
        "        self.age = age\n",
        "\n",
        "    def greet(self):\n",
        "        print(f\"Hello, my name is {self.name} and I am {self.age} years old.\")\n"
      ]
    },
    {
      "cell_type": "code",
      "source": [
        "p = Person(\"niyati\", 3.6)\n",
        "p.greet()"
      ],
      "metadata": {
        "colab": {
          "base_uri": "https://localhost:8080/"
        },
        "id": "EmYs8a0hq_6O",
        "outputId": "fc926bcb-661e-4a73-cc1c-b86e524f10c8"
      },
      "id": "EmYs8a0hq_6O",
      "execution_count": 50,
      "outputs": [
        {
          "output_type": "stream",
          "name": "stdout",
          "text": [
            "Hello, my name is niyati and I am 3.6 years old.\n"
          ]
        }
      ]
    },
    {
      "cell_type": "code",
      "execution_count": 52,
      "id": "bf4fc2fb",
      "metadata": {
        "id": "bf4fc2fb"
      },
      "outputs": [],
      "source": [
        "# 12. Student average grade\n",
        "class Student:\n",
        "    def __init__(self, name, grades):\n",
        "        self.name = name\n",
        "        self.grades = grades\n",
        "\n",
        "    def average_grade(self):\n",
        "        return sum(self.grades) / len(self.grades)"
      ]
    },
    {
      "cell_type": "code",
      "source": [
        "s = Student(\"netri\", [80, 90, 85])\n",
        "print(s.average_grade())"
      ],
      "metadata": {
        "colab": {
          "base_uri": "https://localhost:8080/"
        },
        "id": "AbYOqaq6rEmd",
        "outputId": "620af9a5-e3cf-4c48-e192-678da4f22cc6"
      },
      "id": "AbYOqaq6rEmd",
      "execution_count": 53,
      "outputs": [
        {
          "output_type": "stream",
          "name": "stdout",
          "text": [
            "85.0\n"
          ]
        }
      ]
    },
    {
      "cell_type": "code",
      "execution_count": 54,
      "id": "c1d4d069",
      "metadata": {
        "id": "c1d4d069"
      },
      "outputs": [],
      "source": [
        "# 13. Rectangle with area method\n",
        "class Rectangle:\n",
        "    def set_dimensions(self, length, width):\n",
        "        self.length = length\n",
        "        self.width = width\n",
        "\n",
        "    def area(self):\n",
        "        return self.length * self.width\n"
      ]
    },
    {
      "cell_type": "code",
      "source": [
        "r = Rectangle()\n",
        "r.set_dimensions(5, 3)\n",
        "print(r.area())"
      ],
      "metadata": {
        "colab": {
          "base_uri": "https://localhost:8080/"
        },
        "id": "XQakJzSxrOVD",
        "outputId": "f34dce0b-2684-4078-b61b-5016a3712f81"
      },
      "id": "XQakJzSxrOVD",
      "execution_count": 55,
      "outputs": [
        {
          "output_type": "stream",
          "name": "stdout",
          "text": [
            "15\n"
          ]
        }
      ]
    },
    {
      "cell_type": "code",
      "execution_count": 56,
      "id": "5931b4f1",
      "metadata": {
        "id": "5931b4f1"
      },
      "outputs": [],
      "source": [
        "# 14. Employee and Manager salary calculation\n",
        "class Employee:\n",
        "    def __init__(self, hours, rate):\n",
        "        self.hours = hours\n",
        "        self.rate = rate\n",
        "\n",
        "    def calculate_salary(self):\n",
        "        return self.hours * self.rate\n",
        "\n",
        "class Manager(Employee):\n",
        "    def __init__(self, hours, rate, bonus):\n",
        "        super().__init__(hours, rate)\n",
        "        self.bonus = bonus\n",
        "\n",
        "    def calculate_salary(self):\n",
        "        return super().calculate_salary() + self.bonus"
      ]
    },
    {
      "cell_type": "code",
      "source": [
        "\n",
        "m = Manager(40, 50, 500)\n",
        "print(m.calculate_salary())"
      ],
      "metadata": {
        "colab": {
          "base_uri": "https://localhost:8080/"
        },
        "id": "awdlCqUBr1Ho",
        "outputId": "5212611e-96fa-4621-eb3d-39acbf7e635a"
      },
      "id": "awdlCqUBr1Ho",
      "execution_count": 57,
      "outputs": [
        {
          "output_type": "stream",
          "name": "stdout",
          "text": [
            "2500\n"
          ]
        }
      ]
    },
    {
      "cell_type": "code",
      "source": [
        "e = Employee(60, 40,)\n",
        "print(e.calculate_salary())"
      ],
      "metadata": {
        "colab": {
          "base_uri": "https://localhost:8080/"
        },
        "id": "YET0b0V0r2wx",
        "outputId": "192f32da-11a3-4601-d988-bef68adecd6f"
      },
      "id": "YET0b0V0r2wx",
      "execution_count": 62,
      "outputs": [
        {
          "output_type": "stream",
          "name": "stdout",
          "text": [
            "2400\n"
          ]
        }
      ]
    },
    {
      "cell_type": "code",
      "execution_count": 63,
      "id": "8007df63",
      "metadata": {
        "id": "8007df63"
      },
      "outputs": [],
      "source": [
        "# 15. Product with total price calculation\n",
        "class Product:\n",
        "    def __init__(self, name, price, quantity):\n",
        "        self.name = name\n",
        "        self.price = price\n",
        "        self.quantity = quantity\n",
        "\n",
        "    def total_price(self):\n",
        "        return self.price * self.quantity"
      ]
    },
    {
      "cell_type": "code",
      "source": [
        "p = Product(\"Kajal\", 125, 5)\n",
        "print(p.total_price())"
      ],
      "metadata": {
        "colab": {
          "base_uri": "https://localhost:8080/"
        },
        "id": "0YGVZkTGszbV",
        "outputId": "30b7e8f1-1266-4564-b40b-e9a7683d2cda"
      },
      "id": "0YGVZkTGszbV",
      "execution_count": 64,
      "outputs": [
        {
          "output_type": "stream",
          "name": "stdout",
          "text": [
            "625\n"
          ]
        }
      ]
    },
    {
      "cell_type": "code",
      "execution_count": 66,
      "id": "dee93fa7",
      "metadata": {
        "id": "dee93fa7"
      },
      "outputs": [],
      "source": [
        "# 16. Abstract Animal with sound method\n",
        "from abc import ABC, abstractmethod\n",
        "\n",
        "class Animal(ABC):\n",
        "    @abstractmethod\n",
        "    def sound(self):\n",
        "        pass\n",
        "\n",
        "class Cow(Animal):\n",
        "    def sound(self):\n",
        "        print(\"Moomoo\")\n",
        "\n",
        "class Sheep(Animal):\n",
        "    def sound(self):\n",
        "        print(\"Baabaa\")\n"
      ]
    },
    {
      "cell_type": "code",
      "source": [
        "c = Cow()\n",
        "c.sound()\n"
      ],
      "metadata": {
        "colab": {
          "base_uri": "https://localhost:8080/"
        },
        "id": "wb3WzWMWs7zL",
        "outputId": "a53c97f3-8bdc-44ac-9518-5558a9956296"
      },
      "id": "wb3WzWMWs7zL",
      "execution_count": 67,
      "outputs": [
        {
          "output_type": "stream",
          "name": "stdout",
          "text": [
            "Moomoo\n"
          ]
        }
      ]
    },
    {
      "cell_type": "code",
      "source": [
        "s = Sheep()\n",
        "s.sound()"
      ],
      "metadata": {
        "colab": {
          "base_uri": "https://localhost:8080/"
        },
        "id": "zjRT6waYs-YS",
        "outputId": "b6897317-c419-4a43-9d48-f44ec3b4fd62"
      },
      "id": "zjRT6waYs-YS",
      "execution_count": 68,
      "outputs": [
        {
          "output_type": "stream",
          "name": "stdout",
          "text": [
            "Baabaa\n"
          ]
        }
      ]
    },
    {
      "cell_type": "code",
      "execution_count": 69,
      "id": "cb52dbe4",
      "metadata": {
        "id": "cb52dbe4"
      },
      "outputs": [],
      "source": [
        "# 17. Book class with get_book_info\n",
        "class Book:\n",
        "    def __init__(self, title, author, year_published):\n",
        "        self.title = title\n",
        "        self.author = author\n",
        "        self.year = year_published\n",
        "\n",
        "    def get_book_info(self):\n",
        "        return f\"{self.title} by {self.author}, published in {self.year}\""
      ]
    },
    {
      "cell_type": "code",
      "source": [
        "b = Book( \"Horse with wings\", \"Netri Trehan\" , 1996)\n",
        "print(b.get_book_info())"
      ],
      "metadata": {
        "colab": {
          "base_uri": "https://localhost:8080/"
        },
        "id": "tB7WDGKDtSm8",
        "outputId": "58979da9-81d8-4972-f69c-7d7e3f97a112"
      },
      "id": "tB7WDGKDtSm8",
      "execution_count": 72,
      "outputs": [
        {
          "output_type": "stream",
          "name": "stdout",
          "text": [
            "Horse with wings by Netri Trehan, published in 1996\n"
          ]
        }
      ]
    },
    {
      "cell_type": "code",
      "execution_count": 74,
      "id": "e74c9376",
      "metadata": {
        "id": "e74c9376"
      },
      "outputs": [],
      "source": [
        "# 18. House and Mansion class\n",
        "class House:\n",
        "    def __init__(self, address, price):\n",
        "        self.address = address\n",
        "        self.price = price\n",
        "\n",
        "class Mansion(House):\n",
        "    def __init__(self, address, price, number_of_rooms):\n",
        "        super().__init__(address, price)\n",
        "        self.number_of_rooms = number_of_rooms"
      ]
    },
    {
      "cell_type": "code",
      "source": [
        "m = Mansion(\"123 ganesh chowk\",  5000000, 12 )\n",
        "print(m.address, m.price, m.number_of_rooms)"
      ],
      "metadata": {
        "colab": {
          "base_uri": "https://localhost:8080/"
        },
        "id": "ScPgRd3Hte3D",
        "outputId": "14e759d2-46b0-410a-ba91-7a345738c409"
      },
      "id": "ScPgRd3Hte3D",
      "execution_count": 78,
      "outputs": [
        {
          "output_type": "stream",
          "name": "stdout",
          "text": [
            "123 ganesh chowk 5000000 12\n"
          ]
        }
      ]
    },
    {
      "cell_type": "markdown",
      "source": [
        "\n",
        "THEORY QUESTION ANSWER -\n",
        "\n",
        "### 1. What is Object-Oriented Programming (OOP)?\n",
        "Object-Oriented Programming (OOP) is a way of writing code where we create \"objects\" to represent real-world things. These objects have **data** (called attributes) and **functions** (called methods) that work on the data. It helps make code organized, reusable, and easier to understand.\n",
        "\n",
        "\n",
        "\n",
        "### 2. What is a class in OOP?\n",
        "A class is like a **blueprint** or a **template** for creating objects. It defines the properties and behaviors that the objects will have.\n",
        "\n",
        "\n",
        "\n",
        "\n",
        "### 3. What is an object in OOP?\n",
        "An object is an **actual thing created using a class**. It has real values for the attributes defined in the class.\n",
        "\n",
        "\n",
        "\n",
        "\n",
        "### 4. What is the difference between abstraction and encapsulation?\n",
        "- **Abstraction** means showing **only important details** and hiding the rest.\n",
        "- **Encapsulation** means **hiding the internal data** of an object and only allowing access through methods.\n",
        "\n",
        "\n",
        "\n",
        "\n",
        "### 5. What are dunder methods in Python?\n",
        "Dunder methods are **special methods** in Python that start and end with double underscores like `__init__`, `__str__`, `__len__`.\n",
        "\n",
        "\n",
        "\n",
        "\n",
        "### 6. Explain the concept of inheritance in OOP.\n",
        "Inheritance means one class (child) can **use the code of another class (parent)\n",
        "Inheritance is a fundamental concept in Object-Oriented Programming (OOP) that allows a class (called the child class or subclass) to inherit properties and behaviors (attributes and methods) from another class (called the parent class or superclass).\n",
        "\n",
        "This promotes code reusability, modularity, and hierarchical classification.**.\n",
        "\n",
        "\n",
        "\n",
        "\n",
        "\n",
        "### 7. What is polymorphism in OOP?\n",
        "Polymorphism means **one function or method behaves differently** depending on the object calling it.Polymorphism in Object-Oriented Programming (OOP) refers to the ability of different classes to provide a unique implementation of methods that share the same name. It allows objects of different types to be treated through a common interface.\n",
        "\n",
        "The word \"polymorphism\" means \"many forms\".\n",
        "\n",
        "\n",
        "\n",
        "\n",
        "### 8. How is encapsulation achieved in Python?\n",
        "Encapsulation is done by making variables **private** and providing **getter and setter methods** to access or update them.\n",
        "In layman language - Encapsulation in Python is achieved by restricting direct access to some of an object’s attributes and methods, which helps in protecting the internal state of the object. This is done using:\n",
        "\n",
        "- Public members: Accessible from anywhere.\n",
        "\n",
        "- Protected members (_variable): Indicated by a single underscore; intended for internal use.\n",
        "\n",
        "- Private members (__variable): Indicated by a double underscore; not directly accessible from outside the class\n",
        "\n",
        "\n",
        "\n",
        "\n",
        "### 9. What is a constructor in Python?\n",
        "A constructor is a special method called `__init__()` that runs **automatically when an object is created**.\n",
        "\n",
        "\n",
        "\n",
        "\n",
        "\n",
        "### 10. What are class and static methods in Python?\n",
        "- **Class method** uses `@classmethod` and works with the **class itself**.\n",
        "- **Static method** uses `@staticmethod` and is just a **normal method inside a class**.\n",
        "\n",
        "\n",
        "\n",
        "\n",
        "\n",
        "### 11. What is method overloading in Python?\n",
        "Python **does not support method overloading** directly but allows it using default values or `*args`, `**kwargs`.\n",
        "\n",
        "\n",
        "\n",
        "\n",
        "### 12. What is method overriding in OOP?\n",
        "Method overriding means a **child class** has a method with the **same name** as the **parent class**, but with different behavior.\n",
        "\n",
        "\n",
        "\n",
        "\n",
        "\n",
        "### 13. What is a property decorator in Python?\n",
        "The `@property` decorator lets you **use a method like an attribute**. It's used to access a private variable in a clean way.\n",
        "\n",
        "\n",
        "\n",
        "\n",
        "### 14. Why is polymorphism important in OOP?\n",
        "Polymorphism makes code more **flexible and reusable**.Also it allows objects of different classes to be treated as objects of a common superclass. This enables flexibility, extensibility, and clean, maintainable code.\n",
        "\n",
        "\n",
        "\n",
        "### 15. What is an abstract class in Python?\n",
        "An abstract class is a class that **can’t be used to create objects** directly. It contains **abstract methods** using `@abstractmethod`.\n",
        "\n",
        "\n",
        "\n",
        "\n",
        "### 16. What are the advantages of OOP?\n",
        "- Code reuse through inheritance\n",
        "- Organized code with classes\n",
        "- Data protection with encapsulation\n",
        "- Flexibility with polymorphism\n",
        "\n",
        "### 17. What is the difference between a class variable and an instance variable?\n",
        "- **Class variable** is shared by **all objects** of the class.\n",
        "- **Instance variable** is **unique for each object**.\n",
        "\n",
        "### 18. What is multiple inheritance in Python?\n",
        "Multiple inheritance means a class can **inherit from more than one class**.\n",
        "\n",
        "### 19. Explain the purpose of `__str__` and `__repr__` methods in Python.\n",
        "- `__str__()` is used when printing an object.\n",
        "- `__repr__()` is used for debugging.\n",
        "\n",
        "### 20. What is the significance of the `super()` function in Python?\n",
        "The `super()` function lets a child class **call methods from its parent class**.\n",
        "\n",
        "\n",
        "\n",
        "### 21. What is the significance of the `__del__` method in Python?\n",
        "The `__del__()` method is called **when an object is deleted**.\n",
        "\n",
        "\n",
        "\n",
        "### 22. What is the difference between @staticmethod and @classmethod in Python?\n",
        "- `@staticmethod` doesn’t use any class or instance info.\n",
        "- `@classmethod` takes `cls` as a parameter and accesses class-level data.\n",
        "\n",
        "\n",
        "\n",
        "### 23. How does polymorphism work in Python with inheritance?\n",
        "Child classes override a method, and **the correct version runs** even if the reference is of the parent type.\n",
        "\n",
        "\n",
        "\n",
        "### 24. What is method chaining in Python OOP?\n",
        "\n",
        "\n",
        "**Answer:**\n",
        "**Method chaining** is a technique in Python where you call **multiple methods one after another** on the **same object**, in a single line of code.\n",
        "\n",
        "This works when each method **returns `self`** (the object itself), allowing the next method to be called on that same object.\n",
        "\n",
        "**Example:**\n",
        "\n",
        "```python\n",
        "class Person:\n",
        "    def __init__(self, name):\n",
        "        self.name = name\n",
        "\n",
        "    def say_hello(self):\n",
        "        print(f\"Hello, my name is {self.name}\")\n",
        "        return self\n",
        "\n",
        "    def say_bye(self):\n",
        "        print(\"Goodbye!\")\n",
        "        return self\n",
        "\n",
        "p = Person(\"Netri\")\n",
        "p.say_hello().say_bye()\n",
        "```\n",
        "\n",
        "**Output:**\n",
        "\n",
        "```\n",
        "Hello, my name is Netri  \n",
        "Goodbye!\n",
        "```\n",
        "\n",
        "**In simple words:**\n",
        "Method chaining makes the code **shorter and cleaner** by calling multiple methods in a row using dots (`.`), as long as each method returns the object (`self`).\n",
        "\n",
        "Method chaining means calling **multiple methods one after another** on the same object. Each method returns `self`.I fyou have multiple task, you can use this , it will simplify our repeatative work.\n",
        "\n",
        "\n",
        "\n",
        "\n",
        "### 25. What is the purpose of the `__call__` method in Python?\n",
        "\n",
        "**Answer:**\n",
        "The `__call__` method in Python allows an object of a class to be **called like a function**.\n",
        "\n",
        "When you define a `__call__()` method inside a class, you can use the object by putting parentheses `()` after it — just like you would call a regular function.\n",
        "\n",
        "**Example:**\n",
        "\n",
        "```python\n",
        "class Greet:\n",
        "    def __call__(self, name):\n",
        "        return f\"Hello beautiful {name}!\"\n",
        "\n",
        "g = Greet()\n",
        "print(g(\"Netri\"))\n",
        "\n",
        "# Output: Hello beautiful, Netri!\n",
        "```\n",
        "\n",
        "**In simple words:**\n",
        "`__call__` makes an object **behave like a function** when used with parentheses.\n"
      ],
      "metadata": {
        "id": "8gMeblm2t17x"
      },
      "id": "8gMeblm2t17x"
    },
    {
      "cell_type": "code",
      "source": [],
      "metadata": {
        "id": "yMl8cBHxtiny"
      },
      "id": "yMl8cBHxtiny",
      "execution_count": null,
      "outputs": []
    }
  ],
  "metadata": {
    "colab": {
      "provenance": []
    },
    "language_info": {
      "name": "python"
    },
    "kernelspec": {
      "name": "python3",
      "display_name": "Python 3"
    }
  },
  "nbformat": 4,
  "nbformat_minor": 5
}